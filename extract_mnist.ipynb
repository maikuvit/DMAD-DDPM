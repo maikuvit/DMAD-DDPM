{
 "cells": [
  {
   "cell_type": "code",
   "execution_count": null,
   "metadata": {},
   "outputs": [],
   "source": [
    "import os\n",
    "import cv2\n",
    "import numpy as np\n",
    "import _csv as csv"
   ]
  },
  {
   "cell_type": "code",
   "execution_count": null,
   "metadata": {},
   "outputs": [],
   "source": [
    "def extract_images(save_dir, csv_fname):\n",
    "    assert os.path.exists(save_dir), \"Directory {} to save images does not exist\".format(save_dir)\n",
    "    assert os.path.exists(csv_fname), \"Csv file {} does not exist\".format(csv_fname)\n",
    "    with open(csv_fname) as f:\n",
    "        reader = csv.reader(f)\n",
    "        for idx, row in enumerate(reader):\n",
    "            if idx == 0:\n",
    "                continue\n",
    "            im = np.zeros((784))\n",
    "            im[:] = list(map(int, row[1:]))\n",
    "            im = im.reshape((28,28))\n",
    "            if not os.path.exists(os.path.join(save_dir, row[0])):\n",
    "                os.mkdir(os.path.join(save_dir, row[0]))\n",
    "            cv2.imwrite(os.path.join(save_dir, row[0], '{}.png'.format(idx)), im)\n",
    "            if idx % 1000 == 0:\n",
    "                print('Finished creating {} images in {}'.format(idx+1, save_dir))"
   ]
  },
  {
   "cell_type": "code",
   "execution_count": null,
   "metadata": {},
   "outputs": [],
   "source": [
    "extract_images('data/train/images', 'data/mnist_train.csv')\n",
    "extract_images('data/test/images', 'data/mnist_test.csv')"
   ]
  }
 ],
 "metadata": {
  "language_info": {
   "name": "python"
  }
 },
 "nbformat": 4,
 "nbformat_minor": 2
}
