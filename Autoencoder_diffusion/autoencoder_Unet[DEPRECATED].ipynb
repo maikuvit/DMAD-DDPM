{
 "cells": [
  {
   "cell_type": "code",
   "execution_count": 1,
   "metadata": {},
   "outputs": [],
   "source": [
    "import torch\n",
    "import torch.nn as nn"
   ]
  },
  {
   "cell_type": "code",
   "execution_count": 2,
   "metadata": {},
   "outputs": [],
   "source": [
    "# now i can define the blocks that i need ...\n",
    "\n",
    "class resnetBlock(nn.Module):\n",
    "    \n",
    "        def __init__(self, in_channels, out_channels, activation = nn.LeakyReLU()):\n",
    "            super().__init__()\n",
    "            self.activation = activation\n",
    "            self.conv1 = nn.Conv2d(in_channels, out_channels, 3,stride = 1,  padding=1)\n",
    "            self.conv2 = nn.Conv2d(out_channels, out_channels, 3, stride = 1, padding=1)\n",
    "\n",
    "                    # nn.(8, in_channels if i == 0 else out_channels),\n",
    "            self.bn1 = nn.BatchNorm2d(in_channels)\n",
    "            self.bn2 = nn.BatchNorm2d(out_channels)\n",
    "            self.in_channels = in_channels\n",
    "            self.out_channels = out_channels\n",
    "            \n",
    "            self.res_input_conv = nn.Conv2d(in_channels, out_channels, 1)\n",
    "\n",
    "        def forward(self, x):\n",
    "            input = x\n",
    "            #print(self.bn1)\n",
    "            #print(\"Before bn1:\", x.shape)\n",
    "\n",
    "            x = self.bn1(x)\n",
    "            x = self.activation(x)\n",
    "            x = self.conv1(x)\n",
    "            x = self.bn2(x)\n",
    "            x = self.activation(x)\n",
    "            x = self.conv2(x)\n",
    "            x = x + self.res_input_conv(input)\n",
    "            return x\n",
    "        \n",
    "class selfAttentionBlock(nn.Module):\n",
    "\n",
    "    def __init__(self,in_channels, out_channels, headnums, activation = nn.LeakyReLU()):\n",
    "        super().__init__()\n",
    "        self.activation = activation\n",
    "        self.norm = nn.GroupNorm(8, out_channels)\n",
    "        self.satt = nn.MultiheadAttention(out_channels, headnums, batch_first=True)\n",
    "        self.inConv = nn.Conv2d(in_channels, out_channels, 1)\n",
    "        \n",
    "    def forward(self,x):\n",
    "        input = x\n",
    "        self.b, self.c, self.h, self.w = x.shape\n",
    "        #print(\"Before reshape:\", x.shape)\n",
    "        x = x.reshape(self.b, self.c, self.h * self.w) #reshape to linear ... \n",
    "        #print(\"After reshape:\", x.shape)\n",
    "\n",
    "        x = self.norm(x)\n",
    "        #print(\"After norm:\", x.shape)\n",
    "        x = x.transpose(1,2) # to put channels as last dimension ...\n",
    "        x, _ = self.satt(x, x , x)\n",
    "        #print(\"After self att:\", x.shape)\n",
    "        x = x.transpose(1, 2).reshape(self.b, self.c, self.h, self.w) #reshape back to original shape\n",
    "        #print(\"After reshape x:\", x.shape)\n",
    "        #print(\"After reshape in:\", input.shape)\n",
    "\n",
    "        x = input + x\n",
    "        return x"
   ]
  },
  {
   "cell_type": "code",
   "execution_count": 3,
   "metadata": {},
   "outputs": [],
   "source": [
    "# and now i can define the 3 types of block (downBlock, upBlock, middleBlock)\n",
    "# check reference video for more details ...\n",
    "\n",
    "class downBlock(nn.Module):\n",
    "    def __init__(self,in_channels, out_channels, downsample ,num_layers = 1):\n",
    "        super().__init__()\n",
    "        self.num_layers = num_layers\n",
    "        self.downsample = downsample\n",
    "\n",
    "        self.down_sample_conv = nn.Conv2d(out_channels, out_channels, 4, 2, 1) if self.downsample else nn.Identity()\n",
    "\n",
    "        self.resnet = nn.ModuleList([\n",
    "            resnetBlock(in_channels if i == 0 else out_channels, out_channels)\n",
    "            for i in range(num_layers)\n",
    "        ])\n",
    "        self.selfatt =nn.ModuleList([\n",
    "            selfAttentionBlock(out_channels, out_channels, 4)\n",
    "            for _ in range(num_layers)\n",
    "            ])\n",
    "\n",
    "    def forward(self, x):\n",
    "        for i in range(self.num_layers):\n",
    "            x = self.resnet[i](x) \n",
    "            x = self.selfatt[i](x)\n",
    "        \n",
    "        x = self.down_sample_conv(x)\n",
    "        return x"
   ]
  },
  {
   "cell_type": "code",
   "execution_count": 4,
   "metadata": {},
   "outputs": [],
   "source": [
    "class middleBlock(nn.Module):\n",
    "    def __init__(self, in_channels, out_channels, num_layers=1):\n",
    "        super().__init__()\n",
    "        self.num_layers = num_layers\n",
    "\n",
    "        self.initialResnet = resnetBlock(in_channels, out_channels)\n",
    "        \n",
    "        self.resnet = nn.ModuleList([\n",
    "            resnetBlock(out_channels, out_channels)\n",
    "            for _ in range(num_layers)\n",
    "        ])\n",
    "        self.selfatt = nn.ModuleList([\n",
    "            selfAttentionBlock(out_channels, out_channels, 4)\n",
    "            for _ in range(num_layers)\n",
    "        ])\n",
    "\n",
    "    def forward(self, x):\n",
    "\n",
    "        x = self.initialResnet(x)\n",
    "        \n",
    "        for i in range(self.num_layers):\n",
    "            x = self.selfatt[i](x)\n",
    "            x = self.resnet[i](x)\n",
    "        return x"
   ]
  },
  {
   "cell_type": "code",
   "execution_count": 5,
   "metadata": {},
   "outputs": [],
   "source": [
    "\n",
    "class upBlock(nn.Module):\n",
    "    def __init__(self, in_channels, out_channels, upsample, num_layers=1,skip_connections = False):\n",
    "        super().__init__()\n",
    "        self.num_layers = num_layers\n",
    "        self.upsample = upsample\n",
    "        self.skip_connections = skip_connections\n",
    "\n",
    "        self.up_sample_conv = nn.ConvTranspose2d(in_channels, in_channels, 4, 2, 1) if self.upsample else nn.Identity()\n",
    "\n",
    "        self.resnet = nn.ModuleList([\n",
    "            resnetBlock(in_channels if i == 0 else out_channels, out_channels)\n",
    "            for i in range(num_layers)\n",
    "        ])\n",
    "        \n",
    "        self.selfatt = nn.ModuleList([\n",
    "            selfAttentionBlock(out_channels, out_channels, 4)\n",
    "            for _ in range(num_layers)\n",
    "        ])\n",
    "\n",
    "    def forward(self, x,downblock_out = None):\n",
    "\n",
    "        x = self.up_sample_conv(x)\n",
    "        if self.skip_connections: \n",
    "            x = x + downblock_out\n",
    "        \n",
    "        for i in range(self.num_layers):\n",
    "            \n",
    "            x = self.resnet[i](x)\n",
    "            x = self.selfatt[i](x)\n",
    "        return x"
   ]
  },
  {
   "cell_type": "code",
   "execution_count": 6,
   "metadata": {},
   "outputs": [],
   "source": [
    "# unet \n",
    "\n",
    "class unet(nn.Module):\n",
    "\n",
    "    def __init__(self, in_channels,activation = nn.LeakyReLU(), num_layers=1,skip_connections = False):\n",
    "        super().__init__()\n",
    "        self.down_channels = [32,64,128,256] \n",
    "        self.middle_channels = [256,256,128]\n",
    "        self.up_channels = [128,64,32,16]\n",
    "\n",
    "        self.downsample = [True, True, True]\n",
    "        self.upsample = list(reversed(self.downsample))\n",
    "        self.num_layers = num_layers\n",
    "        self.activation = activation\n",
    "        self.skip_connections = skip_connections\n",
    "\n",
    "        self.input_conv = nn.Conv2d(in_channels, self.down_channels[0], 3, padding=1)\n",
    "        self.down_size_1 = nn.Conv2d(in_channels, in_channels, 4, 2, 1)\n",
    "        \n",
    "        self.down_blocks = nn.ModuleList()\n",
    "\n",
    "        for i in range(len(self.down_channels ) - 1):\n",
    "            self.down_blocks.append( \n",
    "                downBlock(self.down_channels[i], self.down_channels[i+1], self.downsample[i], num_layers)\n",
    "            )\n",
    "        self.mid_blocks = nn.ModuleList()\n",
    "\n",
    "        for i in range(len(self.middle_channels) - 1):\n",
    "            self.mid_blocks.append(\n",
    "                middleBlock(self.middle_channels[i], self.middle_channels[i+1], num_layers)\n",
    "            )\n",
    "\n",
    "        self.up_blocks = nn.ModuleList()\n",
    "\n",
    "        for i in range(len(self.up_channels) - 1):\n",
    "            self.up_blocks.append(\n",
    "                upBlock(self.up_channels[i], self.up_channels[i+1], self.upsample[i], num_layers)\n",
    "            )        \n",
    "\n",
    "        # final conversion to same shape as input ...\n",
    "        self.output_norm = nn.GroupNorm(8,self.up_channels[-1])\n",
    "        self.output_conv = nn.Conv2d(self.up_channels[-1], in_channels, 3, padding=1)\n",
    "\n",
    "        self.up_size_1 = nn.ConvTranspose2d(in_channels, in_channels, 4, 2, 1) \n",
    "\n",
    "\n",
    "\n",
    "    # adding c to condition ...\n",
    "    def forward(self, x):\n",
    "        #x = self.down_size_1(x)\n",
    "        x = self.input_conv(x)\n",
    "        downblock_outs = []\n",
    "\n",
    "        for i in range(len(self.down_blocks)):\n",
    "            if(self.skip_connections):\n",
    "                downblock_outs.append(x)\n",
    "            x = self.down_blocks[i](x)\n",
    "\n",
    "        for i in range(len(self.mid_blocks)):\n",
    "            x = self.mid_blocks[i](x)\n",
    "        \n",
    "        for i in range(len(self.up_blocks)): \n",
    "            if(self.skip_connections):\n",
    "                dout = downblock_outs.pop()\n",
    "                x = self.up_blocks[i](x, dout)\n",
    "            else:\n",
    "                x = self.up_blocks[i](x)\n",
    "        \n",
    "        x = self.output_norm(x)\n",
    "        x = self.activation(x)\n",
    "        x = self.output_conv(x)\n",
    "        #x = self.up_size_1(x)\n",
    "        return x\n"
   ]
  },
  {
   "cell_type": "code",
   "execution_count": 7,
   "metadata": {},
   "outputs": [],
   "source": [
    "# just to test my implementation (from the reference video)\n",
    "import glob\n",
    "import os\n",
    "\n",
    "import torchvision\n",
    "from PIL import Image\n",
    "from tqdm import tqdm\n",
    "from torch.utils.data.dataloader import DataLoader\n",
    "from torch.utils.data.dataset import Dataset\n",
    "import numpy as np\n",
    "\n",
    "\n",
    "class FacesDataset(Dataset):\n",
    "    r\"\"\"\n",
    "    Dataset class to load the Bonafide images. \n",
    "    \"\"\"\n",
    "    def __init__(self, im_path, im_ext='png'):\n",
    "        r\"\"\"\n",
    "        Init method for initializing the dataset properties\n",
    "        :param split: train/test to locate the image files\n",
    "        :param im_path: root folder of images\n",
    "        :param im_ext: image extension. assumes all\n",
    "        images would be this type.\n",
    "        \"\"\"\n",
    "        self.im_ext = im_ext\n",
    "        self.identities = self.load_images(im_path)\n",
    "        self.keys = list(self.identities.keys())\n",
    "    \n",
    "    def load_images(self, im_path):\n",
    "        r\"\"\"\n",
    "        Gets all images from the path specified\n",
    "        and stacks them all up\n",
    "        :param im_path:\n",
    "        :return:\n",
    "        \"\"\"\n",
    "        identities = {}\n",
    "        assert os.path.exists(im_path), \"images path {} does not exist\".format(im_path)\n",
    "        \n",
    "        for p in os.listdir(im_path):\n",
    "            for i in os.listdir(os.path.join(im_path, p)):\n",
    "                id = i.split('.')[0] # getting only the number ...\n",
    "                id = int(id)\n",
    "\n",
    "                if id not in identities:\n",
    "                    identities[id] = {}\n",
    "                identities[id][p] = os.path.join(im_path, p, i)\n",
    "\n",
    "        print('Found {} identities.'.format(len(identities)))\n",
    "        return identities\n",
    "    \n",
    "    def __len__(self):\n",
    "        return len(self.identities)\n",
    "    \n",
    "    def __getitem__(self, index):\n",
    "        type = \"neutral\"\n",
    "        if np.random.randint(2) == 1:\n",
    "            type = \"smile\"\n",
    "        #print(\"ASKING FOR ITEM:\", index, type)\n",
    "\n",
    "        item = self.keys[index]\n",
    "        #print(\"REAL ITEM: \", item)\n",
    "        im = Image.open(self.identities[item][type])  \n",
    "        im_tensor = torchvision.transforms.ToTensor()(im)\n",
    "        # Convert input to -1 to 1 range.\n",
    "        #im_tensor = (2 * im_tensor) - 1\n",
    "        return im_tensor"
   ]
  },
  {
   "cell_type": "code",
   "execution_count": 8,
   "metadata": {},
   "outputs": [
    {
     "name": "stdout",
     "output_type": "stream",
     "text": [
      "Found 1269 identities.\n",
      "torch.Size([3, 56, 56])\n",
      "{2}\n"
     ]
    },
    {
     "data": {
      "image/png": "[encoded data removed]",
      "text/plain": [
       "<Figure size 640x480 with 1 Axes>"
      ]
     },
     "metadata": {},
     "output_type": "display_data"
    }
   ],
   "source": [
    "import matplotlib.pyplot as plt\n",
    "\n",
    "ds = FacesDataset(im_path=\"/data/michele/IST-MDB/bonafide\")\n",
    "\n",
    "im = ds[269]\n",
    "\n",
    "print(im.shape)\n",
    "\n",
    "lens = []\n",
    "for i in ds.identities:\n",
    "    lens.append(len(ds.identities[i]))\n",
    "\n",
    "print(set(lens))  # i only have identities with two images (=> i always have both neutral and smile)\n",
    "plt.imshow(im.transpose(0, 2).transpose(0, 1).numpy())\n",
    "plt.show()\n"
   ]
  },
  {
   "cell_type": "code",
   "execution_count": 9,
   "metadata": {},
   "outputs": [],
   "source": [
    "BATCH_SIZE = 4\n",
    "NUM_EPOCHS = 40"
   ]
  },
  {
   "cell_type": "code",
   "execution_count": 10,
   "metadata": {},
   "outputs": [],
   "source": [
    "train_size = int(0.8 * len(ds))\n",
    "test_size = len(ds) - train_size\n",
    "train_ds, test_ds = torch.utils.data.random_split(ds, [train_size, test_size])"
   ]
  },
  {
   "cell_type": "code",
   "execution_count": 11,
   "metadata": {},
   "outputs": [
    {
     "name": "stdout",
     "output_type": "stream",
     "text": [
      "1015 254\n"
     ]
    }
   ],
   "source": [
    "print(len(train_ds), len(test_ds)) # ok thats good "
   ]
  },
  {
   "cell_type": "code",
   "execution_count": 13,
   "metadata": {},
   "outputs": [
    {
     "name": "stdout",
     "output_type": "stream",
     "text": [
      "Using device: cuda\n"
     ]
    }
   ],
   "source": [
    "device = torch.device('cuda' if torch.cuda.is_available() else 'cpu')\n",
    "\n",
    "print('Using device:', device)\n",
    "from torch.optim import Adam\n",
    "import matplotlib.pyplot as plt\n",
    "from torchmetrics.image import StructuralSimilarityIndexMeasure\n",
    "import torch.optim.lr_scheduler as lr_scheduler\n",
    "\n",
    "def train(model, dataset):\n",
    "    \n",
    "    dataset = DataLoader(dataset, batch_size=BATCH_SIZE, shuffle=True)\n",
    "    \n",
    "    model.train()\n",
    "    # Create output directories\n",
    "    if not os.path.exists(\"out\"):\n",
    "        os.mkdir(\"out\")\n",
    "    \n",
    "    # Specify training parameters\n",
    "    optimizer = Adam(model.parameters(), lr=0.1)\n",
    "    # learning rate scheduler to decrease it gradually ...\n",
    "    scheduler = lr_scheduler.ExponentialLR(optimizer, gamma=0.98)\n",
    "\n",
    "    ssim = StructuralSimilarityIndexMeasure(data_range=1).to(device)\n",
    "    mae = nn.L1Loss()\n",
    "    \n",
    "    # Run training\n",
    "    for epoch_idx in range(NUM_EPOCHS):\n",
    "        losses = []\n",
    "        if device.type == 'cuda':\n",
    "             torch.cuda.empty_cache()\n",
    "        lastimg = None\n",
    "        lastReco = None\n",
    "\n",
    "        for image in tqdm(dataset):\n",
    "\n",
    "            optimizer.zero_grad()\n",
    "            image = image.float().to(device)\n",
    "\n",
    "            reconstructed = model(image)\n",
    "\n",
    "\n",
    "            loss = 1 - ssim(image, reconstructed) # + mae(image, reconstructed)\n",
    "            losses.append(loss.item())\n",
    "            loss.backward()\n",
    "            optimizer.step()\n",
    "            lastimg = image\n",
    "            lastReco = reconstructed\n",
    "\n",
    "        scheduler.step()\n",
    "\n",
    "        fig, axs = plt.subplots(1, 2)\n",
    "        \n",
    "\n",
    "        axs[0].imshow(lastimg[0].detach().cpu().transpose(0, 2).transpose(0, 1).numpy())\n",
    "        axs[0].set_title('image')\n",
    "        axs[1].imshow(lastReco[0].detach().cpu().transpose(0, 2).transpose(0, 1).numpy())\n",
    "        axs[1].set_title('reconstructed')\n",
    "        plt.show()\n",
    "        print('Finished epoch:{} | Loss : {:.4f}'.format(\n",
    "            epoch_idx + 1,\n",
    "            np.mean(losses),\n",
    "        ))\n",
    "        torch.save(model.state_dict(), os.path.join(\"out_ae\",\n",
    "                                                    \"ae_{}.pth\".format(epoch_idx)))\n",
    "    \n",
    "    print('Done Training ...')"
   ]
  },
  {
   "cell_type": "code",
   "execution_count": 14,
   "metadata": {},
   "outputs": [],
   "source": [
    "model = unet(3, num_layers=3,skip_connections=False).to(device)"
   ]
  },
  {
   "cell_type": "code",
   "execution_count": 15,
   "metadata": {},
   "outputs": [
    {
     "name": "stderr",
     "output_type": "stream",
     "text": [
      "100%|██████████| 254/254 [02:16<00:00,  1.86it/s]\n",
      "Clipping input data to the valid range for imshow with RGB data ([0..1] for floats or [0..255] for integers). Got range [-36.58417..0.9736984].\n"
     ]
    },
    {
     "data": {
      "image/png": "[encoded data removed]",
      "text/plain": [
       "<Figure size 640x480 with 2 Axes>"
      ]
     },
     "metadata": {},
     "output_type": "display_data"
    },
    {
     "name": "stdout",
     "output_type": "stream",
     "text": [
      "Finished epoch:1 | Loss : 0.8293\n"
     ]
    },
    {
     "name": "stderr",
     "output_type": "stream",
     "text": [
      "100%|██████████| 254/254 [02:16<00:00,  1.86it/s]\n",
      "Clipping input data to the valid range for imshow with RGB data ([0..1] for floats or [0..255] for integers). Got range [-60.450684..0.77942646].\n"
     ]
    },
    {
     "data": {
      "image/png": "[encoded data removed]",
      "text/plain": [
       "<Figure size 640x480 with 2 Axes>"
      ]
     },
     "metadata": {},
     "output_type": "display_data"
    },
    {
     "name": "stdout",
     "output_type": "stream",
     "text": [
      "Finished epoch:2 | Loss : 0.8119\n"
     ]
    },
    {
     "name": "stderr",
     "output_type": "stream",
     "text": [
      " 88%|████████▊ | 224/254 [02:00<00:16,  1.85it/s]\n"
     ]
    },
    {
     "ename": "KeyboardInterrupt",
     "evalue": "",
     "output_type": "error",
     "traceback": [
      "\u001b[0;31m---------------------------------------------------------------------------\u001b[0m",
      "\u001b[0;31mKeyboardInterrupt\u001b[0m                         Traceback (most recent call last)",
      "Cell \u001b[0;32mIn[15], line 1\u001b[0m\n\u001b[0;32m----> 1\u001b[0m \u001b[43mtrain\u001b[49m\u001b[43m(\u001b[49m\u001b[43mmodel\u001b[49m\u001b[43m,\u001b[49m\u001b[43m \u001b[49m\u001b[43mtrain_ds\u001b[49m\u001b[43m)\u001b[49m\n",
      "Cell \u001b[0;32mIn[13], line 37\u001b[0m, in \u001b[0;36mtrain\u001b[0;34m(model, dataset)\u001b[0m\n\u001b[1;32m     34\u001b[0m \u001b[38;5;28;01mfor\u001b[39;00m image \u001b[38;5;129;01min\u001b[39;00m tqdm(dataset):\n\u001b[1;32m     36\u001b[0m     optimizer\u001b[38;5;241m.\u001b[39mzero_grad()\n\u001b[0;32m---> 37\u001b[0m     image \u001b[38;5;241m=\u001b[39m \u001b[43mimage\u001b[49m\u001b[38;5;241;43m.\u001b[39;49m\u001b[43mfloat\u001b[49m\u001b[43m(\u001b[49m\u001b[43m)\u001b[49m\u001b[38;5;241;43m.\u001b[39;49m\u001b[43mto\u001b[49m\u001b[43m(\u001b[49m\u001b[43mdevice\u001b[49m\u001b[43m)\u001b[49m\n\u001b[1;32m     39\u001b[0m     reconstructed \u001b[38;5;241m=\u001b[39m model(image)\n\u001b[1;32m     42\u001b[0m     loss \u001b[38;5;241m=\u001b[39m \u001b[38;5;241m1\u001b[39m \u001b[38;5;241m-\u001b[39m ssim(image, reconstructed) \u001b[38;5;66;03m# + mae(image, reconstructed)\u001b[39;00m\n",
      "\u001b[0;31mKeyboardInterrupt\u001b[0m: "
     ]
    }
   ],
   "source": [
    "train(model, train_ds)"
   ]
  }
 ],
 "metadata": {
  "kernelspec": {
   "display_name": ".venv",
   "language": "python",
   "name": "python3"
  },
  "language_info": {
   "codemirror_mode": {
    "name": "ipython",
    "version": 3
   },
   "file_extension": ".py",
   "mimetype": "text/x-python",
   "name": "python",
   "nbconvert_exporter": "python",
   "pygments_lexer": "ipython3",
   "version": "3.12.2"
  }
 },
 "nbformat": 4,
 "nbformat_minor": 2
}
