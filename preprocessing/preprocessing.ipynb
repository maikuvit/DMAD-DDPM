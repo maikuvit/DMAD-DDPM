{
 "cells": [
  {
   "cell_type": "code",
   "execution_count": null,
   "metadata": {},
   "outputs": [],
   "source": [
    "import mxnet as mx\n",
    "import os\n",
    "\n",
    "# Specify the path of the .rec file\n",
    "rec_file_path = \"path/to/your/file.rec\"\n",
    "\n",
    "# Specify the path of the destination folder\n",
    "destination_folder = \"dataset/raw\"\n",
    "\n",
    "# Create the destination folder if it doesn't exist\n",
    "os.makedirs(destination_folder, exist_ok=True)\n",
    "\n",
    "# Open the .rec file\n",
    "record = mx.recordio.MXRecordIO(rec_file_path, 'r')\n",
    "\n",
    "# Iterate over each record in the .rec file\n",
    "i = 0\n",
    "while True:\n",
    "    try:\n",
    "        # Read the next record\n",
    "        item = record.read()\n",
    "        if not item:\n",
    "            break\n",
    "\n",
    "        # Save the photo to the destination folder\n",
    "        photo_path = os.path.join(destination_folder, f\"photo_{i}.jpg\")\n",
    "        with open(photo_path, 'wb') as f:\n",
    "            f.write(item)\n",
    "\n",
    "        i += 1\n",
    "    except mx.base.MXNetError:\n",
    "        break\n",
    "\n",
    "print(f\"Saved {i} photos to {destination_folder}\")\n"
   ]
  }
 ],
 "metadata": {
  "language_info": {
   "name": "python"
  }
 },
 "nbformat": 4,
 "nbformat_minor": 2
}
